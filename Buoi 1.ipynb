{
 "cells": [
  {
   "cell_type": "markdown",
   "id": "ec2d030b",
   "metadata": {},
   "source": [
    "# Bài tập cơ bản\n",
    "\n",
    "## Nhập đầu vào là:\n",
    "    - Tiền lương trước thuế (triệu VND)\n",
    "    - Độ tuổi\n",
    "    - Tình trạng hôn nhân (1: Độc thân, 2: Đã lập gia đình, 3: Bố/Mẹ đơn thân\n",
    "    - Số con\n",
    "    \n",
    "## In ra tiền lương sau thuế (thực nhân), với các quy định sau\n",
    "    a, Độc thân chịu thuế 5%, đã lập gia đình 3%, bố/mẹ đơn thân 2%\n",
    "    b, Có 1 con được trừ thuế 3%, có 2 con được trừ 5%, từ con thứ 3 được trừ 1% cho mỗi con\n",
    "    c, Tiền lương trước thuế 10 triệu trở xuống được miễn thuế, trên 10 triệu đến dưới 20 triệu chịu thuế 10%, từ 20 triệu trở lên chịu thuế lũy tiến 0.1% cho mỗi 1 triệu, nhưng tối đa không vượt quá 5%.\n",
    "    d, Độ tuổi từ 18-30 chịu thuế 6%, từ 31 đến 45 chịu thuế 9%, từ 46 đến 60, với mỗi năm tuổi được giảm 0.1%, trên 60 tuổi được mức thuế cố định 4%\n"
   ]
  },
  {
   "cell_type": "code",
   "execution_count": 1,
   "id": "c7074d36",
   "metadata": {},
   "outputs": [
    {
     "name": "stdout",
     "output_type": "stream",
     "text": [
      "Nhập lương trước thuế: 60\n",
      "Nhập độ tuổi: 22\n",
      "Nhập tình trang hôn nhân: 1\n",
      "Nhập số con: 0\n",
      "0.05\n",
      "a, Lương sau thuế:  57.0\n",
      "0.05\n",
      "b, Lương sau thuế:  57.0\n",
      "0.05\n",
      "c, Lương sau thuế:  57.0\n",
      "0.11\n",
      "d, Lương sau thuế:  53.4\n"
     ]
    }
   ],
   "source": [
    "Luong_truoc_thue = float(input(\"Nhập lương trước thuế: \"))\n",
    "do_tuoi = int(input(\"Nhập độ tuổi: \"))\n",
    "tinh_trang_hon_nhan = int(input(\"Nhập tình trang hôn nhân: \"))\n",
    "so_con = int(input(\"Nhập số con: \"))\n",
    "\n",
    "# a,\n",
    "if tinh_trang_hon_nhan == 1:\n",
    "    thue = 0.05\n",
    "elif tinh_trang_hon_nhan == 2:\n",
    "    thue = 0.03\n",
    "else: \n",
    "    thue = 0.02\n",
    "    \n",
    "print(thue)\n",
    "luong_sau_thue = Luong_truoc_thue * (1 - thue)\n",
    "print(\"a, Lương sau thuế: \", round(luong_sau_thue, 2))\n",
    "\n",
    "\n",
    "# b,\n",
    "if so_con == 0:\n",
    "    thue = thue\n",
    "elif so_con == 1:\n",
    "    thue = thue - 0.03\n",
    "elif so_con == 2:\n",
    "    thue = thue - 0.05\n",
    "else:\n",
    "    thue = thue - (0.05 + (so_con - 2)*0.01)\n",
    "    \n",
    "print(thue)\n",
    "luong_sau_thue = Luong_truoc_thue * (1 - thue)\n",
    "print(\"b, Lương sau thuế: \", round(luong_sau_thue, 2))\n",
    "\n",
    "# c,\n",
    "if Luong_truoc_thue <= 10:\n",
    "    thue = 0\n",
    "elif Luong_truoc_thue < 20:\n",
    "    thue = thue + 0.1\n",
    "else:\n",
    "    thue = min((thue + 0.1) * (1.001**((Luong_truoc_thue - 20)//1)), 0.05)\n",
    "    \n",
    "print(thue)\n",
    "luong_sau_thue = Luong_truoc_thue * (1 - thue)\n",
    "print(\"c, Lương sau thuế: \", round(luong_sau_thue, 2))\n",
    "\n",
    "# d,\n",
    "if do_tuoi < 18:\n",
    "    print(\"Chưa đủ tuổi nhận lương\")\n",
    "elif do_tuoi < 31:\n",
    "    thue = thue + 0.06\n",
    "elif do_tuoi < 46:\n",
    "    thue = thue + 0.09\n",
    "elif do_tuoi < 61:\n",
    "    thue = thue - 0.001*((do_tuoi - 45)//5)\n",
    "else:\n",
    "    thue = 0.04\n",
    "print(thue)\n",
    "luong_sau_thue = Luong_truoc_thue * (1 - thue)\n",
    "print(\"d, Lương sau thuế: \", round(luong_sau_thue, 2))\n",
    "\n",
    "\n",
    "\n",
    "\n",
    "\n"
   ]
  },
  {
   "cell_type": "code",
   "execution_count": null,
   "id": "9963cff5",
   "metadata": {},
   "outputs": [],
   "source": []
  }
 ],
 "metadata": {
  "kernelspec": {
   "display_name": "Python 3 (ipykernel)",
   "language": "python",
   "name": "python3"
  },
  "language_info": {
   "codemirror_mode": {
    "name": "ipython",
    "version": 3
   },
   "file_extension": ".py",
   "mimetype": "text/x-python",
   "name": "python",
   "nbconvert_exporter": "python",
   "pygments_lexer": "ipython3",
   "version": "3.9.13"
  }
 },
 "nbformat": 4,
 "nbformat_minor": 5
}
